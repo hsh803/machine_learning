{
  "nbformat": 4,
  "nbformat_minor": 0,
  "metadata": {
    "colab": {
      "provenance": [],
      "gpuType": "T4"
    },
    "kernelspec": {
      "name": "python3",
      "display_name": "Python 3"
    },
    "language_info": {
      "name": "python"
    },
    "accelerator": "GPU"
  },
  "cells": [
    {
      "cell_type": "code",
      "execution_count": null,
      "metadata": {
        "colab": {
          "base_uri": "https://localhost:8080/"
        },
        "id": "1qoEoV7abHu7",
        "outputId": "b8344929-3a8a-4013-a707-2791bb2c3d6b"
      },
      "outputs": [
        {
          "output_type": "stream",
          "name": "stdout",
          "text": [
            "No GPU available\n"
          ]
        }
      ],
      "source": [
        "import numpy as np\n",
        "from sklearn.model_selection import train_test_split\n",
        "from tqdm import tqdm\n",
        "import matplotlib.pyplot as plt\n",
        "import torch\n",
        "import torch.nn as nn\n",
        "from torch.utils.data import Dataset, DataLoader\n",
        "\n",
        "if torch.cuda.is_available():\n",
        "  for i in range(torch.cuda.device_count()):\n",
        "    print(torch.cuda.get_device_name(i))\n",
        "else:\n",
        "  print(\"No GPU available\")"
      ]
    },
    {
      "cell_type": "code",
      "source": [
        "class InputData():\n",
        "\n",
        "  def __init__(self, path):\n",
        "    self.path = path\n",
        "    self.sentences = []\n",
        "\n",
        "  def load_data(self):\n",
        "    with open(self.path, \"r\") as file:                                          # Load corpus file with conllu extension\n",
        "      corpus = file.readlines()                                                 # I explored three language corpus data:\n",
        "                                                                                # 1) English(Atis): news, non-finction 2) Korean(GSD): blog, news 3) Swedish (Lines): fiction, non-finction, spoken\n",
        "    sentences = []\n",
        "    text = []\n",
        "    for line in corpus:                                                         # Generate a list of sentences from the corpus in token, tag piar\n",
        "      if not line.startswith(\"#\") and line != \"\\n\":\n",
        "        line = line.split(\"\\t\")\n",
        "        text.append((line[1], line[3]))\n",
        "      elif line == \"\\n\":\n",
        "        sentences.append(text)\n",
        "        text = []\n",
        "    self.sentences = [sentence for sentence in sentences if len(sentence) > 2]  # Remove very short sentences from the list\n",
        "\n",
        "  def token_label(self):\n",
        "    X = [[token for token, tag in sentence] for sentence in self.sentences]     # Seperate tokens and tags of each sentence into X and y respectively\n",
        "    y = [[tag for token, tag in sentence] for sentence in self.sentences]\n",
        "    return X, y\n",
        "\n",
        "  def to_idx(self, X_train, y_train):\n",
        "    tokens = {token for sentence in X_train for token in sentence}              # Create a set consisting of uniqu token from X\n",
        "    idx2token = list(tokens)\n",
        "    idx2token.insert(0, '<UNK>')\n",
        "    idx2token.append('<PAD>')\n",
        "    token2idx = {token:idx for idx, token in enumerate(idx2token)}              # Create a dictionary by paring each token with its index from a set of tokens\n",
        "\n",
        "    tags = {tag for tags in y_train for tag in tags}                            # Create a set consisting of uniqu tag from y\n",
        "    idx2tag = list(tags)\n",
        "    idx2tag.append('<PAD>')\n",
        "    tag2idx = {tag:idx for idx, tag in enumerate(idx2tag)}                      # Create a dictionary by paring each tag with its index from a set of tags\n",
        "    return token2idx, tag2idx\n",
        "\n",
        "my_data = InputData(\"en_atis-ud-train.conllu\")                                  # Initialize an instance of InputData class (path options: en_atis-ud-train.conllu, ko_gsd-ud-train.conllu, sv_lines-ud-train.conllu)\n",
        "my_data.load_data()                                                             # InputData class can handle all of those three different language corpus when I tested it\n",
        "X, y = my_data.token_label()\n",
        "X_train, X_test, y_train, y_test = train_test_split(X, y, test_size=0.1, random_state=0)      # Devide X, y for training and testing respectively (Datasize: 1) English: 4270, 2) Korea: 4323, 3) Swedish: 3152)\n",
        "\n",
        "token2idx, tag2idx = my_data.to_idx(X_train, y_train)                           # Create a vocabulary using training data"
      ],
      "metadata": {
        "id": "ICfnOPIL-1td"
      },
      "execution_count": null,
      "outputs": []
    },
    {
      "cell_type": "code",
      "source": [
        "def pad_and_encode(sentences, labels):\n",
        "  assert len(sentences)==len(labels)\n",
        "  assert np.all([len(sentence)==len(tags) for sentence, tags in zip(sentences, labels)])\n",
        "  max_sentence_length = np.max([len(sentence) for sentence in sentences])       # Use max sentence length to pad sentences\n",
        "  padded_sentences = torch.zeros(len(sentences), max_sentence_length,           # Create data structures with <PAD> as default\n",
        "                                 dtype=torch.long)\n",
        "  padded_sentences[:] = token2idx['<PAD>']\n",
        "  padded_labels = torch.zeros(len(sentences), max_sentence_length,\n",
        "                              dtype=torch.long)\n",
        "  padded_labels[:] = tag2idx['<PAD>']\n",
        "  for i, (sentence, tags) in enumerate(zip(sentences, labels)):                 # Loop over the data to add pad to each sentence if it is needed\n",
        "    for j, token in enumerate(sentence):\n",
        "      if token in token2idx.keys():\n",
        "        padded_sentences[i, j] = token2idx[token]\n",
        "      else:\n",
        "        padded_sentences[i, j] = token2idx['<UNK>']                             # This statement handles tokens from test data that are not found in the vocabulary (OOV)\n",
        "    for j, tag in enumerate(tags):\n",
        "      padded_labels[i, j] = tag2idx[tag]\n",
        "  return padded_sentences, padded_labels\n"
      ],
      "metadata": {
        "id": "M9V023jVzIYo"
      },
      "execution_count": null,
      "outputs": []
    },
    {
      "cell_type": "code",
      "source": [
        "def batch_iterator(sentences, labels, batch_size=64):                           # This function is called in LSTMTagger class for traning data\n",
        "  assert len(sentences) == len(labels)\n",
        "  for i in range(0, len(sentences), batch_size):\n",
        "    X, y = pad_and_encode(sentences[i:min(i+batch_size, len(sentences))],       # Call pad_and_encode function to get padded sentences and labels\n",
        "                          labels[i:min(i+batch_size, len(sentences))])\n",
        "    if torch.cuda.is_available():                                               # Move data to the GPU, if possible, before yielding it\n",
        "      yield (X.cuda(), y.cuda())\n",
        "    else:\n",
        "      yield (X, y)"
      ],
      "metadata": {
        "id": "KJfF4GUP8-MR"
      },
      "execution_count": null,
      "outputs": []
    },
    {
      "cell_type": "code",
      "source": [
        "class LSTMTagger(nn.Module):\n",
        "  def __init__(self, word_embedding_dim, hidden_dim, vocabulary_size, tagset_size, bidirectional=False, rnn_type='lstm'):\n",
        "\n",
        "    super(LSTMTagger, self).__init__()                                          # We need to initialise the class we are inheriting from\n",
        "    self.hidden_dim_ = hidden_dim                                               # This simply stores the parameters\n",
        "    self.vocabulary_size_ = vocabulary_size                                     # The number of unique tokens from the corpus\n",
        "    self.tagset_size_ = tagset_size                                             # The number of unique tags from the corpus\n",
        "    self.bidirectional = bidirectional                                          # Extension 1. Added an option to use a bi-directional RNN layer. Default: False\n",
        "    self.rnn_type = rnn_type                                                    # Extension 2. Added an option to choose between LSTM and GRU\n",
        "    self.dropout = nn.Dropout(p=0.2)                                            # Extension 3. Using dropout for regularization, The rate of regularization is set with 0.2.\n",
        "\n",
        "    self._word_embedding = nn.Embedding(num_embeddings=vocabulary_size,         # Creates the vector space for the input words\n",
        "                                         embedding_dim=word_embedding_dim,\n",
        "                                         padding_idx=token2idx['<PAD>'])\n",
        "\n",
        "    if rnn_type == 'lstm':\n",
        "      self._rnn = nn.LSTM(input_size=word_embedding_dim,                        # Choose LSTM layer\n",
        "                          hidden_size=hidden_dim,\n",
        "                          batch_first=True,\n",
        "                          bidirectional=self.bidirectional)\n",
        "\n",
        "    elif rnn_type == 'gru':                                                     # Choose GRU layer\n",
        "      self._rnn = nn.GRU(input_size=word_embedding_dim,\n",
        "                         hidden_size=hidden_dim,\n",
        "                         batch_first=True,\n",
        "                         bidirectional=self.bidirectional)\n",
        "\n",
        "    if self.bidirectional == True:                                              # The linear layer maps from the RNN output space to tag space\n",
        "      self._fc = nn.Linear(hidden_dim*2, tagset_size)                           # If bidirectional=True, one more direction will be added\n",
        "\n",
        "    else:\n",
        "      self._fc = nn.Linear(hidden_dim, tagset_size)\n",
        "\n",
        "    self._softmax = nn.LogSoftmax(dim=1)                                        # Softmax of outputting PDFs over tags\n",
        "\n",
        "    self.training_loss_ = list()                                                # For plotting\n",
        "    self.training_accuracy_ = list()\n",
        "\n",
        "    if torch.cuda.is_available():                                               # Move the model to the GPU (if we have one)\n",
        "      self.cuda()\n",
        "\n",
        "  def forward(self, padded_sentences):\n",
        "    batch_size, max_sentence_length = padded_sentences.size()\n",
        "    embedded_sentences = self._word_embedding(padded_sentences)                 # Sentences encoded as integers are mapped to vectors\n",
        "    sentence_lengths = (padded_sentences!=token2idx['<PAD>']).sum(dim=1)        # Find the length of sentences\n",
        "    sentence_lengths = sentence_lengths.long().cpu()                            # Ensure the correct format\n",
        "    X = nn.utils.rnn.pack_padded_sequence(embedded_sentences, sentence_lengths, # Pack the embedded data\n",
        "                                          batch_first=True, enforce_sorted=False)\n",
        "    rnn_out, _ = self._rnn(X)                                                   # Run the LSTM layer\n",
        "    X, _ = nn.utils.rnn.pad_packed_sequence(rnn_out, batch_first=True)          # Unpack the output from the LSTM\n",
        "    X = X.contiguous().view(-1, X.shape[2])                                     # The output from the LSTM layer is flattened\n",
        "    X = self.dropout(X)                                                         # Use Dropout for regularization\n",
        "    tag_space = self._fc(X)                                                     # Fully connected layer\n",
        "    tag_scores = self._softmax(tag_space)                                       # Softmax is applied to normalise the outputs\n",
        "\n",
        "    return tag_scores.view(batch_size, max_sentence_length, self.tagset_size_)  # Forward pipeline returns tag scores\n",
        "\n",
        "  def fit(self, loss_function, optimizer, batch_size):\n",
        "    for epoch in range(5):                                                      # Times to loop over the full dataset\n",
        "      with tqdm(batch_iterator(X_train, y_train, batch_size=batch_size),\n",
        "        total=len(X_train)//batch_size+1, unit=\"batch\", desc=\"Epoch %i\" % epoch) as batches:\n",
        "        for inputs, targets in batches:                                         # Loop once over the training data\n",
        "          model.zero_grad()                                                     # Reset gradients\n",
        "          scores = self.forward(inputs)                                         # Forward pass\n",
        "          loss = loss_function(scores.view(-1, model.tagset_size_),             # Get loss, the data is reshaped as a long line of predictions and targets\n",
        "                           targets.view(-1))\n",
        "          loss.backward()                                                       # Backpropagate the error\n",
        "          optimizer.step()                                                      # Run the optimizer to change the weights w.r.t the loss\n",
        "          predictions = scores.argmax(dim=2, keepdim=True).squeeze()            # Calculate the batch training accuracy\n",
        "          mask = targets!=tag2idx['<PAD>']                                      # Create a mask for ignoring <PAD> in the targets\n",
        "          correct = (predictions[mask] == targets[mask]).sum().item()           # Item pulls the value from the GPU automatically (if needed)\n",
        "          accuracy = correct / mask.sum().item()*100\n",
        "          self.training_accuracy_.append(accuracy)                              # Save the accuracy for plotting\n",
        "          self.training_loss_.append(loss.item())                               # Save the loss for plotting\n",
        "          batches.set_postfix(loss=loss.item(), accuracy=accuracy)              # Update the progress bar\n",
        "\n",
        "model = LSTMTagger(word_embedding_dim=32,                                       # Dimensionality of the work embedding\n",
        "                   hidden_dim=64,                                               # Dimensionality of the hidden state in the LSTM or GRU\n",
        "                   vocabulary_size=len(token2idx),                              # The vocabulary incudes both the 'padding' and 'unknown' symbols\n",
        "                   tagset_size=len(tag2idx)-1,                                  # We have no interest in the network outputting the padding symbol\n",
        "                   bidirectional=False,                                         # Option to use bi-directional\n",
        "                   rnn_type=\"lstm\")                                             # Option to choose LSTM or GRU layer\n",
        "\n",
        "loss_function = nn.NLLLoss(ignore_index=tag2idx['<PAD>'])\n",
        "optimizer = torch.optim.Adam(model.parameters(), lr=0.01)\n",
        "batch_size = 256\n",
        "model.fit(loss_function, optimizer, batch_size=batch_size)                      # Training the model with training datset\n",
        "\n",
        "\n"
      ],
      "metadata": {
        "colab": {
          "base_uri": "https://localhost:8080/"
        },
        "id": "ZQqcLDle0uTN",
        "outputId": "27a4f50f-9903-45e8-d364-bec55bf48de4"
      },
      "execution_count": null,
      "outputs": [
        {
          "output_type": "stream",
          "name": "stderr",
          "text": [
            "Epoch 0: 100%|██████████| 16/16 [00:02<00:00,  7.21batch/s, accuracy=68.6, loss=1.07]\n",
            "Epoch 1: 100%|██████████| 16/16 [00:02<00:00,  7.84batch/s, accuracy=91.4, loss=0.318]\n",
            "Epoch 2: 100%|██████████| 16/16 [00:02<00:00,  6.00batch/s, accuracy=97.1, loss=0.111]\n",
            "Epoch 3: 100%|██████████| 16/16 [00:02<00:00,  5.56batch/s, accuracy=97.1, loss=0.0822]\n",
            "Epoch 4: 100%|██████████| 16/16 [00:03<00:00,  4.21batch/s, accuracy=94.3, loss=0.0911]\n"
          ]
        }
      ]
    },
    {
      "cell_type": "code",
      "source": [
        "fig = plt.figure(figsize=(6, 4))\n",
        "ax = plt.subplot()\n",
        "ax.set_title(\"Plot of the (hopefully) decreasing loss over epochs\")\n",
        "ax.plot(model.training_loss_, 'b-')\n",
        "ax.set_ylabel(\"Training Loss\", color='b')\n",
        "ax.set_xlabel(\"Epoch\")\n",
        "# ax.set_yscale('log')\n",
        "ax.tick_params(axis='y', labelcolor='b')\n",
        "ax = ax.twinx()\n",
        "ax.plot(model.training_accuracy_, 'r-')\n",
        "ax.set_ylabel(\"Accuracy [%]\", color='r')\n",
        "ax.tick_params(axis='y', labelcolor='r')\n",
        "a = list(ax.axis())\n",
        "a[2] = 0\n",
        "a[3] = 100\n",
        "ax.axis(a)\n",
        "t = np.arange(0, len(model.training_accuracy_), len(X_train)//batch_size+1)\n",
        "ax.set_xticks(ticks=t)\n",
        "ax.set_xticklabels(labels=np.arange(len(t)))\n",
        "fig.tight_layout()\n",
        "plt.show()"
      ],
      "metadata": {
        "colab": {
          "base_uri": "https://localhost:8080/",
          "height": 407
        },
        "id": "BgcuMQYQKQiy",
        "outputId": "25c602f9-4cd6-464f-b8f2-affa3196e0f2"
      },
      "execution_count": null,
      "outputs": [
        {
          "output_type": "display_data",
          "data": {
            "text/plain": [
              "<Figure size 600x400 with 2 Axes>"
            ],
            "image/png": "[encoded data removed]"
          },
          "metadata": {}
        }
      ]
    },
    {
      "cell_type": "code",
      "source": [
        "with torch.no_grad():                                                           # Do not use the following forward passes to calculate a gradient\n",
        "  n_correct = 0\n",
        "  n_total = 0\n",
        "  for inputs, targets in batch_iterator(X_test, y_test, batch_size=batch_size): # Loop once over the test data\n",
        "    scores = model.forward(inputs)                                              # Runs the test data through the model\n",
        "    predictions = scores.argmax(dim=2, keepdim=True).squeeze()                  # Finds the predictions\n",
        "    mask = targets!=tag2idx['<PAD>']                                            # Create a mask for ignoring <PAD> in the targets\n",
        "    n_correct += (predictions[mask] == targets[mask]).sum().item()              # Sums the number of correct predictions\n",
        "    n_total += mask.sum().item()\n",
        "print(\"Test accuracy %.1f%%\" % (100*n_correct/n_total))\n",
        "\n",
        "\n",
        "\"\"\"\n",
        "- Model complexity and accuracy\n",
        "I tested three following languages, Enlgish, Korean and Swedish for exploring how test accuracy changes in different dimensionality.\n",
        "Comared to English and Swedish, Korean have a much higher morphological richness.\n",
        "With 64 hidden dimension, test accuracy in English, Korean and Swedish are 95%, 61%, 75% respectively while with 128 hidden dimension 95%, 72% and 77%.\n",
        "The test accuracy of Korean get almost 10% higher accuracy when using a higher dimension but The test accuracy of two others has very small or no improvement.\n",
        "This result can show that model complexity (by changing dimensionalty in my test case) and accuracy are in relation to what lanuguages we use for PosTagging.\n",
        "\n",
        "- Compare results with and without bidirectional option in LSMT, and GRU layers (English tagging)\n",
        "Test accuracy of both LSTM and GRU without using bidirectional option are 95% and with using bidirectional option are 97%.\n",
        "Those results can exmplain that using bidrectional option helps to improve the model performance.\n",
        "\"\"\"\n"
      ],
      "metadata": {
        "colab": {
          "base_uri": "https://localhost:8080/",
          "height": 145
        },
        "id": "SdJOH6miKeQP",
        "outputId": "b9e7dd67-1868-4fa0-a3cd-8c83f5d3f787"
      },
      "execution_count": null,
      "outputs": [
        {
          "output_type": "stream",
          "name": "stdout",
          "text": [
            "Test accuracy 95.6%\n"
          ]
        },
        {
          "output_type": "execute_result",
          "data": {
            "text/plain": [
              "'\\n- Model complexity and accuracy\\nI tested three following languages, Enlgish, Korean and Swedish for exploring how test accuracy changes in different dimensionality.\\nComared to English and Swedish, Korean have a much higher morphological richness.\\nWith 64 hidden dimension, test accuracy in English, Korean and Swedish are 95%, 61%, 75% respectively while with 128 hidden dimension 95%, 72% and 77%.\\nThe test accuracy of Korean get almost 10% higher accuracy when using a higher dimension but The test accuracy of two others has very small or no improvement.\\nThis result can show that model complexity (by changing dimensionalty in my test case) and accuracy are in relation to what lanuguages we use for PosTagging.\\n\\n- Compare results with and without bidirectional option in LSMT, and GRU layers (English tagging)\\nTest accuracy of both LSTM and GRU without using bidirectional option are 95% and with using bidirectional option are 97%.\\nThose results can exmplain that using bidrectional option helps to improve the model performance.\\n'"
            ],
            "application/vnd.google.colaboratory.intrinsic+json": {
              "type": "string"
            }
          },
          "metadata": {},
          "execution_count": 8
        }
      ]
    }
  ]
}